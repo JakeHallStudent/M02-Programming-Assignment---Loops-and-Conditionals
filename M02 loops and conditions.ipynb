{
 "cells": [
  {
   "cell_type": "code",
   "execution_count": 2,
   "id": "5ce595ab",
   "metadata": {},
   "outputs": [
    {
     "name": "stdout",
     "output_type": "stream",
     "text": [
      "Too high\n"
     ]
    }
   ],
   "source": [
    "secret = 5\n",
    "guess = 8\n",
    "if (guess < secret):\n",
    "    print(\"Too low\")\n",
    "elif (guess > secret):\n",
    "    print(\"Too high\")\n",
    "else:\n",
    "    print(\"Just right\")"
   ]
  },
  {
   "cell_type": "code",
   "execution_count": 7,
   "id": "5f8d5715",
   "metadata": {},
   "outputs": [
    {
     "name": "stdout",
     "output_type": "stream",
     "text": [
      "3\n",
      "2\n",
      "1\n",
      "0\n"
     ]
    }
   ],
   "source": [
    "numbers = [3, 2, 1, 0]\n",
    "for number in numbers:\n",
    "    print(number)"
   ]
  },
  {
   "cell_type": "code",
   "execution_count": 6,
   "id": "75f892f0",
   "metadata": {},
   "outputs": [
    {
     "name": "stdout",
     "output_type": "stream",
     "text": [
      "This is a cherry\n"
     ]
    }
   ],
   "source": [
    "small = True\n",
    "green = False\n",
    "if small:\n",
    "    if green:\n",
    "        print(\"This is a pea\")\n",
    "    else:\n",
    "        print(\"This is a cherry\")\n",
    "else:\n",
    "    if green:\n",
    "        print(\"This is a watermelon\")\n",
    "    else:\n",
    "        print(\"This is a pumpkin\")\n",
    "        "
   ]
  },
  {
   "cell_type": "code",
   "execution_count": null,
   "id": "37c9ce74",
   "metadata": {},
   "outputs": [],
   "source": [
    "guess_me = 7\n",
    "number = 1\n",
    "\n",
    "while (number < guess_me):\n",
    "    number = number + 1\n",
    "    if (number < guess_me):\n",
    "        print(\"Too low\")\n",
    "    elif (number > guess_me):\n",
    "        print(\"Oops\")\n",
    "    else:\n",
    "        print(\"Found it!\")\n",
    "exit"
   ]
  },
  {
   "cell_type": "code",
   "execution_count": null,
   "id": "78c2b0eb",
   "metadata": {},
   "outputs": [],
   "source": [
    "guess_me = 5\n",
    "number = 0\n",
    "\n",
    "for number in range(0, 10):\n",
    "    if number < guess_me:\n",
    "        print(\"Too low\")\n",
    "        number + 1\n",
    "    elif number > guess_me:\n",
    "        print(\"Oops\")\n",
    "    else:\n",
    "        print(\"Found it!\")\n",
    "exit"
   ]
  },
  {
   "cell_type": "code",
   "execution_count": null,
   "id": "7091d853",
   "metadata": {},
   "outputs": [],
   "source": []
  }
 ],
 "metadata": {
  "kernelspec": {
   "display_name": "Python 3 (ipykernel)",
   "language": "python",
   "name": "python3"
  },
  "language_info": {
   "codemirror_mode": {
    "name": "ipython",
    "version": 3
   },
   "file_extension": ".py",
   "mimetype": "text/x-python",
   "name": "python",
   "nbconvert_exporter": "python",
   "pygments_lexer": "ipython3",
   "version": "3.11.4"
  }
 },
 "nbformat": 4,
 "nbformat_minor": 5
}
